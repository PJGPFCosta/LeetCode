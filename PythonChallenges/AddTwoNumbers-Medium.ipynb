{
 "cells": [
  {
   "cell_type": "code",
   "execution_count": 34,
   "metadata": {},
   "outputs": [],
   "source": [
    "# Input: l1 = [2,4,3], l2 = [5,6,4]\n",
    "# Output: [7,0,8]\n",
    "# Explanation: 342 + 465 = 807.\n",
    "\n",
    "\n",
    "class ListNode(object):\n",
    "     def __init__(self, val=0, next=None):\n",
    "         self.val = val\n",
    "         self.next = next\n",
    "\n",
    "\n",
    "class Solution(object):\n",
    "    def addTwoNumbers(self, l1, l2):\n",
    "        \n",
    "        num1=int(''.join(map(str,  reversed(l1))))\n",
    "        num2=int(''.join(map(str,  reversed(l2))))\n",
    "\n",
    "        num_result=num1+num2\n",
    "        num_result=list(map(int, str(num_result)))\n",
    "        return num_result\n",
    "        "
   ]
  },
  {
   "cell_type": "code",
   "execution_count": 35,
   "metadata": {},
   "outputs": [],
   "source": [
    "l1=[9,9,9]\n",
    "l2=[5,6,4]"
   ]
  },
  {
   "cell_type": "code",
   "execution_count": 36,
   "metadata": {},
   "outputs": [
    {
     "data": {
      "text/plain": [
       "[1, 4, 6, 4]"
      ]
     },
     "execution_count": 36,
     "metadata": {},
     "output_type": "execute_result"
    }
   ],
   "source": [
    "solution_instance = Solution()\n",
    "\n",
    "test=solution_instance.addTwoNumbers(l1,l2)\n",
    "test"
   ]
  }
 ],
 "metadata": {
  "kernelspec": {
   "display_name": "Python 3",
   "language": "python",
   "name": "python3"
  },
  "language_info": {
   "codemirror_mode": {
    "name": "ipython",
    "version": 3
   },
   "file_extension": ".py",
   "mimetype": "text/x-python",
   "name": "python",
   "nbconvert_exporter": "python",
   "pygments_lexer": "ipython3",
   "version": "3.10.11"
  }
 },
 "nbformat": 4,
 "nbformat_minor": 2
}
